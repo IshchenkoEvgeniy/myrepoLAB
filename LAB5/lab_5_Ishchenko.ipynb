{
 "cells": [
  {
   "cell_type": "code",
   "execution_count": null,
   "id": "d67d1db7-7f9c-4e70-a12d-aa0120ab8250",
   "metadata": {},
   "outputs": [],
   "source": [
    " оцінити асимптотичну складність алгоритму лінійного пошуку в О-нотації"
   ]
  },
  {
   "cell_type": "raw",
   "id": "af43bc01-a4af-455d-9176-41cb0c3ebcec",
   "metadata": {},
   "source": [
    "Найкращий випадок:Цільовий елемент є першим елементом списку.Часова складність: O(1) \n",
    "\n",
    "Найгірший випадок:Цільового елемента немає в списку, або він є останнім елементом списку.Часова складність: O(n), де n – кількість елементів у списку.\n",
    "\n",
    "Середній випадок:У середньому алгоритм перевірить половину елементів перед тим, як знайти цільовий елемент (якщо він присутній) або досягне кінця списку.Часова складність: O(n) "
   ]
  },
  {
   "cell_type": "raw",
   "id": "3741e0c8-7de9-42f3-911c-6a1eb3808f81",
   "metadata": {},
   "source": [
    "Оцінка асимптотичної складності алгоритму бінарного пошуку в O-нотації"
   ]
  },
  {
   "cell_type": "raw",
   "id": "43ca41e4-a759-4da5-ac5a-ccde067df45a",
   "metadata": {},
   "source": [
    "Найкращий випадок:\n",
    "   Цільовий елемент знаходиться одразу в середині масиву.\n",
    "   Часова складність: O 1\n",
    "\n",
    "2. Найгірший випадок:\n",
    "    Потрібно розбивати масив навпіл на кожному кроці до тих пір, поки не буде знайдено цільовий елемент або не буде підтверджено, що його немає в масиві.\n",
    "   Часова складність:  O log n\n",
    "\n",
    "3. Середній випадок:\n",
    "    У середньому, цільовий елемент знайдеться після кількох розбивань масиву навпіл.\n",
    "    Часова складність: O log n"
   ]
  },
  {
   "cell_type": "raw",
   "id": "7c22d8ac-5c84-4a8d-b94c-4fc4124e1af0",
   "metadata": {},
   "source": [
    " написати функцію, яка б могла повертати датафрейм з таким складом полів: («n», «time»), де n – розмір масиву для функції linear_searh()"
   ]
  },
  {
   "cell_type": "code",
   "execution_count": null,
   "id": "52044166-670b-47a7-9c99-9b46ab3d2458",
   "metadata": {},
   "outputs": [],
   "source": [
    "import pandas as pd\n",
    "import time\n",
    "\n",
    "def measure_linear_search_times():\n",
    "    data = []\n",
    "    for n in range(100, 10001, 100):  \n",
    "        a = list(range(n))\n",
    "        search_item = -1  \n",
    "        start_time = time.time()\n",
    "        linear_search(a, search_item)\n",
    "        end_time = time.time()\n",
    "        elapsed_time = end_time - start_time\n",
    "        data.append({'n': n, 'time': elapsed_time})\n",
    "    df = pd.DataFrame(data)\n",
    "    return df\n",
    "\n",
    "df_linear = measure_linear_search_times()\n",
    "print(df_linear)\n"
   ]
  },
  {
   "cell_type": "raw",
   "id": "1e82c758-72a3-4d73-a9d5-9af8c2bfaa0e",
   "metadata": {},
   "source": [
    "написати функцію, яка б могла повертати датафрейм з таким складом полів: («n», «time»), де n – розмір масиву для функції bin_searh()"
   ]
  },
  {
   "cell_type": "code",
   "execution_count": null,
   "id": "a2d05bf3-df10-496a-9b4f-b25f67d9b416",
   "metadata": {},
   "outputs": [],
   "source": [
    "def measure_bin_search_times():\n",
    "    data = []\n",
    "    for n in range(100, 10001, 100):  \n",
    "        a = list(range(n))\n",
    "        search_item = -1  \n",
    "        start_time = time.time()\n",
    "        bin_search(a, search_item, 0, len(a) - 1)\n",
    "        end_time = time.time()\n",
    "        elapsed_time = end_time - start_time\n",
    "        data.append({'n': n, 'time': elapsed_time})\n",
    "    df = pd.DataFrame(data)\n",
    "    return df\n",
    "\n",
    "df_bin = measure_bin_search_times()\n",
    "print(df_bin)\n"
   ]
  },
  {
   "cell_type": "raw",
   "id": "f5ad8214-cbab-4871-bfb7-e18750a3611d",
   "metadata": {},
   "source": [
    "Побудувати графіки залежності часу виконання процедури пошуку від розміру масиву"
   ]
  },
  {
   "cell_type": "code",
   "execution_count": null,
   "id": "0f587d52-5fc6-400c-a0cf-44410a858745",
   "metadata": {},
   "outputs": [],
   "source": [
    "import matplotlib.pyplot as plt\n",
    "\n",
    "def plot_search_times(df_linear, df_bin):\n",
    "    plt.plot(df_linear['n'], df_linear['time'], label='Linear Search')\n",
    "    plt.plot(df_bin['n'], df_bin['time'], label='Binary Search')\n",
    "    plt.xlabel('Розмір масиву (n)')\n",
    "    plt.ylabel('Час виконання (секунди)')\n",
    "    plt.title('Залежність часу виконання від розміру масиву')\n",
    "    plt.legend()\n",
    "    plt.show()\n",
    "\n",
    "plot_search_times(df_linear, df_bin)"
   ]
  },
  {
   "cell_type": "raw",
   "id": "2a5d05db-6e2f-4e31-9131-92c0884e4005",
   "metadata": {},
   "source": [
    "оцінити, який з двох алгоритмів є ефективнішим і в якому діапазоні розміру задачі. "
   ]
  },
  {
   "cell_type": "raw",
   "id": "5e3cac14-b1dc-4797-9ed6-3df5138f191e",
   "metadata": {},
   "source": [
    "Бінарний пошук значно ефективніший для великих масивів, оскільки його складність  O log n  набагато менша за  O(n)  у лінійного пошуку.\n",
    " Лінійний пошук може бути швидшим для дуже малих масивів або в тих випадках, коли масив не відсортований, і потрібно виконувати лише один прохід по елементах."
   ]
  }
 ],
 "metadata": {
  "kernelspec": {
   "display_name": "Python 3 (ipykernel)",
   "language": "python",
   "name": "python3"
  },
  "language_info": {
   "codemirror_mode": {
    "name": "ipython",
    "version": 3
   },
   "file_extension": ".py",
   "mimetype": "text/x-python",
   "name": "python",
   "nbconvert_exporter": "python",
   "pygments_lexer": "ipython3",
   "version": "3.11.7"
  }
 },
 "nbformat": 4,
 "nbformat_minor": 5
}
