{
 "cells": [
  {
   "cell_type": "raw",
   "id": "efc919b7-c8b3-4680-9fca-f331bc196b84",
   "metadata": {},
   "source": [
    "Виконати теоретичні розрахунки асимптотичної складності алгоритмів сортування методами вставляння та бульбашки"
   ]
  },
  {
   "cell_type": "raw",
   "id": "b9e3b90f-5c82-4236-8b36-786f7f87e612",
   "metadata": {},
   "source": [
    "Вони мають однакову асимптотичну складність у найгіршому та середньому випадках - (O(n^2)). В найкращому випадку обидва алгоритми мають лінійну складність (O(n)). Однак, на практиці сортування вставками зазвичай працює швидше, ніж сортування бульбашкою, оскільки має меншу кількість порівнянь і переміщень у середньому випадку."
   ]
  },
  {
   "cell_type": "markdown",
   "id": "e45e552f-1065-412e-93d3-3348fd024ab5",
   "metadata": {},
   "source": [
    " Реалізувати на Python алгоритм сортування методом бульбашки. "
   ]
  },
  {
   "cell_type": "code",
   "execution_count": null,
   "id": "b90d8e36-5597-4f20-bcba-87e308c3514c",
   "metadata": {},
   "outputs": [],
   "source": [
    "def bubble_sort(arr):\n",
    "    n = len(arr)\n",
    "    for i in range(n):\n",
    "     \n",
    "        swapped = False\n",
    "        for j in range(0, n-i-1):\n",
    "           \n",
    "            if arr[j] > arr[j+1]:\n",
    "               \n",
    "                arr[j], arr[j+1] = arr[j+1], arr[j]\n",
    "                swapped = True\n",
    "        \n",
    "        if not swapped:\n",
    "            break\n",
    "    return arr\n",
    "\n",
    "\n",
    "arr = [64, 34, 25, 12, 22, 11, 90]\n",
    "sorted_arr = bubble_sort(arr)\n",
    "print(\"Відсортований масив:\", sorted_arr)"
   ]
  },
  {
   "cell_type": "code",
   "execution_count": null,
   "id": "a5543ce3-e351-4902-a22d-0faf9bd3f08e",
   "metadata": {},
   "outputs": [],
   "source": [
    "def bubble_sort(arr):\n",
    "    n = len(arr)\n",
    "    for i in range(n):\n",
    "        \n",
    "        swapped = False\n",
    "        for j in range(0, n-i-1):\n",
    "           \n",
    "            if arr[j] > arr[j+1]:\n",
    "               \n",
    "                arr[j], arr[j+1] = arr[j+1], arr[j]\n",
    "                swapped = True\n",
    "      \n",
    "        if not swapped:\n",
    "            break\n",
    "    return arr\n",
    "\n",
    "\n",
    "arr = [64, 34, 25, 12, 22, 11, 90]\n",
    "sorted_arr = bubble_sort(arr)\n",
    "print(\"Відсортований масив:\", sorted_arr)"
   ]
  },
  {
   "cell_type": "code",
   "execution_count": null,
   "id": "45332cfa-31c2-463c-ba4d-691ea5cbc944",
   "metadata": {},
   "outputs": [],
   "source": []
  },
  {
   "cell_type": "code",
   "execution_count": null,
   "id": "607d0e0c-fe5e-4168-9b08-5bf99d1cf144",
   "metadata": {},
   "outputs": [],
   "source": [
    "import time\n",
    "import random\n",
    "\n",
    "def insertion_sort(arr):\n",
    "    for i in range(1, len(arr)):\n",
    "        key = arr[i]\n",
    "        j = i - 1\n",
    "        while j >= 0 and key < arr[j]:\n",
    "            arr[j + 1] = arr[j]\n",
    "            j -= 1\n",
    "        arr[j + 1] = key\n",
    "    return arr\n",
    "\n",
    "def bubble_sort(arr):\n",
    "    n = len(arr)\n",
    "    for i in range(n):\n",
    "        swapped = False\n",
    "        for j in range(0, n-i-1):\n",
    "            if arr[j] > arr[j+1]:\n",
    "                arr[j], arr[j+1] = arr[j+1], arr[j]\n",
    "                swapped = True\n",
    "        if not swapped:\n",
    "            break\n",
    "    return arr\n",
    "\n",
    "\n",
    "def measure_time(sort_function, arr):\n",
    "    start_time = time.time()\n",
    "    sort_function(arr)\n",
    "    end_time = time.time()\n",
    "    return end_time - start_time\n",
    "\n",
    "\n",
    "sizes = [5, 10, 50, 100, 500, 1000, 2000, 3000, 4000, 5000, 10000]\n",
    "insertion_times = []\n",
    "bubble_times = []\n",
    "\n",
    "for size in sizes:\n",
    "    arr = [random.randint(0, 10000) for _ in range(size)]\n",
    "\n",
    "    insertion_time = measure_time(insertion_sort, arr.copy())\n",
    "    insertion_times.append(insertion_time)\n",
    "\n",
    "    bubble_time = measure_time(bubble_sort, arr.copy())\n",
    "    bubble_times.append(bubble_time)\n",
    "\n",
    "\n",
    "print(\"Розмір масиву | Час сортування вставками (сек) | Час сортування бульбашкою (сек)\")\n",
    "print(\"-\" * 60)\n",
    "for size, ins_time, bub_time in zip(sizes, insertion_times, bubble_times):\n",
    "    print(f\"{size:<14} | {ins_time:<30} | {bub_time:<30}\")"
   ]
  },
  {
   "cell_type": "code",
   "execution_count": null,
   "id": "26323de3-ba56-498e-b119-95df86e61b0f",
   "metadata": {},
   "outputs": [],
   "source": [
    "Розмір масиву | Час сортування вставками (сек) | Час сортування бульбашкою (сек)\n",
    "------------------------------------------------------------\n",
    "5              | 0.0                            | 0.0                           \n",
    "10             | 0.0                            | 0.0                           \n",
    "50             | 0.0                            | 0.0009989738464355469         \n",
    "100            | 0.0010008811950683594          | 0.0020051002502441406         \n",
    "500            | 0.08011794090270996            | 0.10014653205871582           \n",
    "1000           | 0.2964353561401367             | 0.45070886611938477           \n",
    "2000           | 0.7961678504943848             | 1.624389886856079             \n",
    "3000           | 1.875758409500122              | 3.0264480113983154            \n",
    "4000           | 2.7850964069366455             | 6.418431997299194             \n",
    "5000           | 3.9107494354248047             | 9.111395120620728             \n",
    "10000          | 17.782179594039917             | 36.41934132575989             \n"
   ]
  }
 ],
 "metadata": {
  "kernelspec": {
   "display_name": "Python 3 (ipykernel)",
   "language": "python",
   "name": "python3"
  },
  "language_info": {
   "codemirror_mode": {
    "name": "ipython",
    "version": 3
   },
   "file_extension": ".py",
   "mimetype": "text/x-python",
   "name": "python",
   "nbconvert_exporter": "python",
   "pygments_lexer": "ipython3",
   "version": "3.11.7"
  }
 },
 "nbformat": 4,
 "nbformat_minor": 5
}
