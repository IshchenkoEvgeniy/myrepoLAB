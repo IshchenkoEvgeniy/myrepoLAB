{
 "cells": [
  {
   "cell_type": "raw",
   "id": "48e1543c-b0d4-48de-a1d4-47b52aebba8a",
   "metadata": {},
   "source": [
    "1. P-нотація (поліноміальна) описує верхню межу складності алгоритму, а Ω-нотація описує нижню межу."
   ]
  },
  {
   "cell_type": "raw",
   "id": "346a5b41-1c80-4c90-95ca-22ddb100a581",
   "metadata": {},
   "source": [
    "2Часова складність сортування вставками в найсприятливіших умовах (O(n)), бо кожен елемент порівнюється лише один раз."
   ]
  },
  {
   "cell_type": "raw",
   "id": "d6a56332-2e55-43da-883e-c9fb86d65489",
   "metadata": {},
   "source": [
    "3 Ефективний алгоритм виконує завдання за мінімальний час або з найменшими ресурсами."
   ]
  },
  {
   "cell_type": "raw",
   "id": "34af9a10-0579-40ae-b436-22015e22156b",
   "metadata": {},
   "source": [
    "4 Головний параметр завдання — це змінна, що визначає масштабність проблеми, наприклад, розмір вхідного масиву (n)."
   ]
  },
  {
   "cell_type": "raw",
   "id": "a5bbb9f9-d239-4260-bc31-d72f3f585c5b",
   "metadata": {},
   "source": [
    "5 Асимптотична складність функції (F(N) = N^3 + 7N^2 - 14N) в (P)-нотації — (N(N^3))."
   ]
  }
 ],
 "metadata": {
  "kernelspec": {
   "display_name": "Python 3 (ipykernel)",
   "language": "python",
   "name": "python3"
  },
  "language_info": {
   "codemirror_mode": {
    "name": "ipython",
    "version": 3
   },
   "file_extension": ".py",
   "mimetype": "text/x-python",
   "name": "python",
   "nbconvert_exporter": "python",
   "pygments_lexer": "ipython3",
   "version": "3.11.7"
  }
 },
 "nbformat": 4,
 "nbformat_minor": 5
}
