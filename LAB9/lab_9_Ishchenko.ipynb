{
 "cells": [
  {
   "cell_type": "code",
   "execution_count": null,
   "id": "d17034b9-9755-424a-8fe9-e44bf75ff128",
   "metadata": {},
   "outputs": [],
   "source": [
    " Повторення коду для довільних рядків"
   ]
  },
  {
   "cell_type": "code",
   "execution_count": null,
   "id": "b5f556f3-0f5b-4f2f-b844-5c829591a77a",
   "metadata": {},
   "outputs": [],
   "source": [
    "def z_func(s):\n",
    "    Z = [0] * len(s)\n",
    "    L, R, K = 0, 0, 0\n",
    "    for i in range(1, len(s)):\n",
    "        if i > R:\n",
    "            L, R = i, i\n",
    "            while R < len(s) and s[R] == s[R - L]:\n",
    "                R += 1\n",
    "            Z[i] = R - L\n",
    "            R -= 1\n",
    "        else:\n",
    "            K = i - L\n",
    "            if Z[K] < R - i + 1:\n",
    "                Z[i] = Z[K]\n",
    "            else:\n",
    "                L = i\n",
    "                while R < len(s) and s[R] == s[R - L]:\n",
    "                    R += 1\n",
    "                Z[i] = R - L\n",
    "                R -= 1\n",
    "    Z[0] = len(s)\n",
    "    return Z\n",
    "\n",
    "def zMatch(p, t):\n",
    "    s = p + \"$\" + t\n",
    "    Z = z_func(s)\n",
    "    occurrences = []\n",
    "    for i in range(len(p) + 1, len(s)):\n",
    "        if Z[i] == len(p):\n",
    "            occurrences.append(i - len(p) - 1)\n",
    "    return occurrences\n",
    "\n",
    "def compress_with_z(s):\n",
    "    z_vec = z_func(s)\n",
    "    for i in range(1, len(s)):\n",
    "        if (i + z_vec[i] == len(s)) and (len(s) % i == 0):\n",
    "            return s[:i]\n",
    "    return s\n",
    "\n",
    "\n",
    "print(z_func(\"абабагаламага\"))  # [13, 0, 1, 0, 3, 0, 1, 0, 3, 0, 1, 0, 1]\n",
    "print(zMatch(\"аб\", \"абабагаламага\"))  # [0, 2, 4]\n",
    "print(compress_with_z(\"абырвалгабырвалгабырвалг\"))  \n"
   ]
  },
  {
   "cell_type": "code",
   "execution_count": null,
   "id": "6356b4cb-fa6e-4b85-8926-e823d89eb80c",
   "metadata": {},
   "outputs": [],
   "source": [
    "Асимптотика наївного алгоритму пошуку підрядка"
   ]
  },
  {
   "cell_type": "raw",
   "id": "2f30a4c0-3d59-4985-8dff-9554d0c1f850",
   "metadata": {},
   "source": [
    "Для кожної позиції в тексті (n), ми перевіряємо чи підрядок (m) співпадає з текстом починаючи з цієї позиції.\n",
    "Для кожної з n позицій ми робимо до m порівнянь.\n",
    "Загальна асимптотична складність наївного алгоритму складає O(n * m), де n - довжина тексту, а m - довжина підрядка.\n"
   ]
  },
  {
   "cell_type": "code",
   "execution_count": null,
   "id": "186dce94-fa55-4151-acfa-cfa84ba7a15b",
   "metadata": {},
   "outputs": [],
   "source": [
    "Асимптотична складність алгоритму стиснення рядка за допомогою Z-функції"
   ]
  },
  {
   "cell_type": "raw",
   "id": "8aa4bbbb-320c-4953-9ecd-d0d13b9324c8",
   "metadata": {},
   "source": [
    "Обчислення Z-функції для рядка довжини n займає O(n) часу.\n",
    "Проходження по елементам Z-вектора також займає O(n) часу.\n",
    "загальна асимптотична складність алгоритму стиснення рядка за допомогою Z-функції складає O(n)"
   ]
  }
 ],
 "metadata": {
  "kernelspec": {
   "display_name": "Python 3 (ipykernel)",
   "language": "python",
   "name": "python3"
  },
  "language_info": {
   "codemirror_mode": {
    "name": "ipython",
    "version": 3
   },
   "file_extension": ".py",
   "mimetype": "text/x-python",
   "name": "python",
   "nbconvert_exporter": "python",
   "pygments_lexer": "ipython3",
   "version": "3.11.7"
  }
 },
 "nbformat": 4,
 "nbformat_minor": 5
}
