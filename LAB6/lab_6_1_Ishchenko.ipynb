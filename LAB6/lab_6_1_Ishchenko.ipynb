{
 "cells": [
  {
   "cell_type": "raw",
   "id": "1278c6c5-e493-4228-afee-b67e87a13aab",
   "metadata": {},
   "source": [
    "Стек - це структура даних, яка працює за принципом LIFO (останній прийшов - перший пішов); операції: push, pop, peek, isEmpty, size."
   ]
  },
  {
   "cell_type": "raw",
   "id": "a8d3d478-94f7-48db-8f5b-b797cdf4e209",
   "metadata": {},
   "source": [
    " Основна відмінність між стеком та чергою: стек використовує принцип LIFO, а черга - FIFO (перший прийшов - перший пішов)."
   ]
  },
  {
   "cell_type": "raw",
   "id": "1348b27e-e77f-4c3c-9beb-bddcb1143275",
   "metadata": {},
   "source": [
    "Реалізація стеку: масив (простота реалізації, фіксований розмір) та зв'язаний список (динамічний розмір, складніше керування пам'яттю); переваги: масив - швидкість доступу, зв'язаний список - гнучкість; недоліки: масив - обмежена пам'ять, зв'язаний список - додатковий простір для вказівників."
   ]
  },
  {
   "cell_type": "raw",
   "id": "632fcb27-694e-4141-b72f-50c44c82d907",
   "metadata": {},
   "source": [
    "Застосування стека та черги: програмування (керування викликами функцій, обробка даних), реальне життя (редагування тексту, обробка запитів)."
   ]
  }
 ],
 "metadata": {
  "kernelspec": {
   "display_name": "Python 3 (ipykernel)",
   "language": "python",
   "name": "python3"
  },
  "language_info": {
   "codemirror_mode": {
    "name": "ipython",
    "version": 3
   },
   "file_extension": ".py",
   "mimetype": "text/x-python",
   "name": "python",
   "nbconvert_exporter": "python",
   "pygments_lexer": "ipython3",
   "version": "3.11.7"
  }
 },
 "nbformat": 4,
 "nbformat_minor": 5
}
