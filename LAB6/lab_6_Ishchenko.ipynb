{
 "cells": [
  {
   "cell_type": "raw",
   "id": "b64361ae-d75c-40a6-9ba8-752a14a7f012",
   "metadata": {},
   "source": [
    "написати функцію pop_n(), що видаляє елементи стека з його початку до номера n включно;"
   ]
  },
  {
   "cell_type": "code",
   "execution_count": null,
   "id": "5a6ef614-6060-40ef-a487-53a402687ff1",
   "metadata": {},
   "outputs": [],
   "source": [
    "class Stack:\n",
    "    def __init__(self):\n",
    "        self.items = []\n",
    "\n",
    "    def isEmpty(self):\n",
    "        return self.items == []\n",
    "\n",
    "    def push(self, item):\n",
    "        self.items.append(item)\n",
    "\n",
    "    def pop(self):\n",
    "        return self.items.pop()\n",
    "\n",
    "    def peek(self):\n",
    "        return self.items[-1]\n",
    "\n",
    "    def size(self):\n",
    "        return len(self.items)\n",
    "\n",
    "    def pop_n(self, n):\n",
    "        if n > len(self.items):\n",
    "            raise ValueError(\"Неможливо видалити більше елементів, ніж є в стеку\")\n",
    "        popped_items = []\n",
    "        for _ in range(n):\n",
    "            popped_items.append(self.pop())\n",
    "        return popped_items\n",
    "\n",
    "\n",
    "s = Stack()\n",
    "s.push('hello')\n",
    "s.push('world')\n",
    "s.push('python')\n",
    "print(s.pop_n(2))  # Виведе: ['python', 'world']\n",
    "print(s.pop_n(1))  # Виведе: ['hello']\n"
   ]
  },
  {
   "cell_type": "raw",
   "id": "56bc71ee-874f-4359-906d-42c2cc90ab99",
   "metadata": {},
   "source": [
    "оцінити асимптотичну складність (у середньому і в найгіршому разі) процедур search, insert і delete роботи зі стеком. "
   ]
  },
  {
   "cell_type": "raw",
   "id": "326f6597-77ef-4e86-b3e8-fe45a575d181",
   "metadata": {},
   "source": [
    "Операція пошуку:\n",
    "У середньому та найгіршому випадках ця операція має часову складність O(n), де n — кількість елементів у стеку.\n",
    "\n",
    "Операція вставки:\n",
    "Ця операція виконується за постійний час O(1) як у середньому, так і в найгіршому випадку.\n",
    "\n",
    "Операція видалення:\n",
    "Ця операція також виконується за постійний час O(1) як у середньому, так і в найгіршому випадку.\n",
    "\n",
    "Операція pop_n:\n",
    "Видалення перших n елементів з стеку за допомогою pop_n включає виклик pop n разів.\n",
    "Таким чином, часова складність pop_n є O(n)\n"
   ]
  },
  {
   "cell_type": "raw",
   "id": "2fb78f12-a55e-4928-8929-fe8d1fdc6205",
   "metadata": {},
   "source": [
    "написати функцію print_n(), що друкує елементи черги з його початку до номера n включно"
   ]
  },
  {
   "cell_type": "code",
   "execution_count": null,
   "id": "7fca9b68-e27c-4ba3-99bc-47ac6491b214",
   "metadata": {},
   "outputs": [],
   "source": [
    "class Queue:\n",
    "    def __init__(self):\n",
    "        self.items = []\n",
    "\n",
    "    def isEmpty(self):\n",
    "        return self.items == []\n",
    "\n",
    "    def enqueue(self, item):\n",
    "        self.items.insert(0, item)\n",
    "\n",
    "    def dequeue(self):\n",
    "        return self.items.pop()\n",
    "\n",
    "    def size(self):\n",
    "        return len(self.items)\n",
    "\n",
    "    def print_n(self, n):\n",
    "        if n > len(self.items):\n",
    "            raise ValueError(\"Неможливо надрукувати більше елементів, ніж є в черзі\")\n",
    "        for i in range(n):\n",
    "            print(self.items[len(self.items) - 1 - i])\n",
    "\n",
    "\n",
    "q = Queue()\n",
    "q.enqueue(1)\n",
    "q.enqueue(2)\n",
    "q.enqueue(3)\n",
    "q.print_n(2)  \n"
   ]
  },
  {
   "cell_type": "raw",
   "id": "7e3e8089-1392-4fe5-a9ef-c0b1083b9926",
   "metadata": {},
   "source": [
    "оцінити асимптотичну складність (у середньому і в найгіршому разі) процедур search, insert і delete роботи з чергою."
   ]
  },
  {
   "cell_type": "raw",
   "id": "48ade197-9540-43fb-b4bd-3238672ef2cd",
   "metadata": {},
   "source": [
    "Операція пошуку:\n",
    "У середньому та найгіршому випадках ця операція має часову складність O(n), де n — кількість елементів у черзі\n",
    "\n",
    "Операція вставки:\n",
    "Ця операція виконується за час O(n) у найгіршому випадку, оскільки всі елементи доводиться зсувати\n",
    "\n",
    "Операція видалення:\n",
    "Ця операція виконується за постійний час O(1).\n",
    "\n",
    "Операція print_n:\n",
    "Друк перших n елементів з черги за допомогою print_n включає доступ до елементів і друк.\n",
    "Таким чином, часова складність print_n є O(n)."
   ]
  },
  {
   "cell_type": "code",
   "execution_count": null,
   "id": "9c1512d0-1f4c-447d-9255-f49594aac748",
   "metadata": {},
   "outputs": [],
   "source": []
  }
 ],
 "metadata": {
  "kernelspec": {
   "display_name": "Python 3 (ipykernel)",
   "language": "python",
   "name": "python3"
  },
  "language_info": {
   "codemirror_mode": {
    "name": "ipython",
    "version": 3
   },
   "file_extension": ".py",
   "mimetype": "text/x-python",
   "name": "python",
   "nbconvert_exporter": "python",
   "pygments_lexer": "ipython3",
   "version": "3.11.7"
  }
 },
 "nbformat": 4,
 "nbformat_minor": 5
}
