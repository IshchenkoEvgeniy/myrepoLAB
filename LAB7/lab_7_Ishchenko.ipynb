{
 "cells": [
  {
   "cell_type": "code",
   "execution_count": null,
   "id": "cc7e36cb-1aa4-4480-8d47-a6e6487d1d80",
   "metadata": {},
   "outputs": [],
   "source": [
    " Створити бінарне дерево згідно з варіантом, виданим викладачем"
   ]
  },
  {
   "cell_type": "code",
   "execution_count": null,
   "id": "9912b2f8-0317-4ec2-9973-75361e7a9fd8",
   "metadata": {},
   "outputs": [],
   "source": [
    "        50\n",
    "       /  \\\n",
    "     30    70\n",
    "    / \\   / \\\n",
    "   20 40 60 80\n",
    "class TreeNode:\n",
    "    def __init__(self, key):\n",
    "        self.left = None\n",
    "        self.right = None\n",
    "        self.val = key\n",
    "\n",
    "def insert(root, key):\n",
    "    if root is None:\n",
    "        return TreeNode(key)\n",
    "    else:\n",
    "        if root.val < key:\n",
    "            root.right = insert(root.right, key)\n",
    "        else:\n",
    "            root.left = insert(root.left, key)\n",
    "    return root\n",
    "\n",
    "def inorder_traversal(root):\n",
    "    if root:\n",
    "        inorder_traversal(root.left)\n",
    "        print(root.val, end=\" \")\n",
    "        inorder_traversal(root.right)\n",
    "\n",
    "\n",
    "root = TreeNode(50)\n",
    "root = insert(root, 30)\n",
    "root = insert(root, 20)\n",
    "root = insert(root, 40)\n",
    "root = insert(root, 70)\n",
    "root = insert(root, 60)\n",
    "root = insert(root, 80)\n",
    "\n",
    "print(\"Інфіксне обходження дерева:\")\n",
    "inorder_traversal(root)\n",
    "print()\n"
   ]
  },
  {
   "cell_type": "code",
   "execution_count": null,
   "id": "adc30ad8-4a58-4ca0-bdbf-50ce0155f0e2",
   "metadata": {},
   "outputs": [],
   "source": [
    "Написати процедуру видалення заданої гілки дерева"
   ]
  },
  {
   "cell_type": "code",
   "execution_count": null,
   "id": "59ca98fd-d640-4d76-831f-cfa3abf7e7a1",
   "metadata": {},
   "outputs": [],
   "source": [
    "def delete_branch(root, key):\n",
    "    if root is None:\n",
    "        return None\n",
    "    \n",
    "    if root.val == key:\n",
    "        return None\n",
    "    \n",
    "    root.left = delete_branch(root.left, key)\n",
    "    root.right = delete_branch(root.right, key)\n",
    "    \n",
    "    return root\n",
    "\n",
    "# Видалення гілки з коренем 30\n",
    "root = delete_branch(root, 30)\n",
    "\n",
    "print(\"Інфіксне обходження дерева після видалення гілки з коренем 30:\")\n",
    "inorder_traversal(root)\n",
    "print()\n"
   ]
  },
  {
   "cell_type": "raw",
   "id": "2156dc7a-f042-4274-8b53-f770c1a3f6b5",
   "metadata": {},
   "source": [
    " Оцінити асимптотичну складність (в середньому і в найгіршому випадку) процедур search, insert і delete роботи з деревом. "
   ]
  },
  {
   "cell_type": "raw",
   "id": "1b785def-e786-4a6c-af34-15278ee5aeba",
   "metadata": {},
   "source": [
    "пошук (search):\n",
    "Середній випадок: O(log n)\n",
    "Найгірший випадок: O(n) — у випадку, якщо дерево перетворюється на однозвязний список.\n",
    "\n",
    " Вставка (insert):\n",
    "Середній випадок: O(log n)\n",
    "Найгірший випадок: O(n) — у випадку, якщо дерево перетворюється на однозвязний список.\n",
    "\n",
    "Видалення (delete):\n",
    "середній випадок: O(log n)\n",
    "Найгірший випадок: O(n) — у випадку, якщо дерево перетворюється на однозвязний список.\n"
   ]
  },
  {
   "cell_type": "raw",
   "id": "e4d766c8-34bc-4d67-8fb1-a72a0133a57c",
   "metadata": {},
   "source": [
    " Процедура генерації купи з будь-якого випадкового масиву"
   ]
  },
  {
   "cell_type": "code",
   "execution_count": null,
   "id": "f4024d87-c413-4d04-b7e6-54e8e00e6c87",
   "metadata": {},
   "outputs": [],
   "source": [
    "def heapify(arr, n, i):\n",
    "    largest = i\n",
    "    left = 2 * i + 1\n",
    "    right = 2 * i + 2\n",
    "    \n",
    "    if left < n and arr[i] < arr[left]:\n",
    "        largest = left\n",
    "\n",
    "    if right < n and arr[largest] < arr[right]:\n",
    "        largest = right\n",
    "\n",
    "    if largest != i:\n",
    "        arr[i], arr[largest] = arr[largest], arr[i]\n",
    "        heapify(arr, n, largest)\n",
    "\n",
    "def build_heap(arr):\n",
    "    n = len(arr)\n",
    "    for i in range(n // 2 - 1, -1, -1):\n",
    "        heapify(arr, n, i)\n",
    "    return arr"
   ]
  },
  {
   "cell_type": "code",
   "execution_count": null,
   "id": "e847b154-b1fe-4473-a427-5dff27a1d52c",
   "metadata": {},
   "outputs": [],
   "source": [
    "Створення випадкового масиву"
   ]
  },
  {
   "cell_type": "code",
   "execution_count": null,
   "id": "919b8331-3561-4dff-ae50-3450a94360e9",
   "metadata": {},
   "outputs": [],
   "source": [
    "random_array = [random.randint(0, 100) for _ in range(10)]\n",
    "heap = build_heap(random_array)\n",
    "print(\"Побудована купа:\", heap)"
   ]
  },
  {
   "cell_type": "code",
   "execution_count": null,
   "id": "d1d0b27a-fa96-4ed4-909b-45181f1931e6",
   "metadata": {},
   "outputs": [],
   "source": [
    " Додавання елемента"
   ]
  },
  {
   "cell_type": "code",
   "execution_count": null,
   "id": "08c639c3-ea7b-4407-8e0f-9ecca3a16ea5",
   "metadata": {},
   "outputs": [],
   "source": [
    "def insert(heap, item):\n",
    "    heap.append(item)\n",
    "    i = len(heap) - 1\n",
    "    while i > 0 and heap[(i - 1) // 2] < heap[i]:\n",
    "        heap[i], heap[(i - 1) // 2] = heap[(i - 1) // 2], heap[i]\n",
    "        i = (i - 1) // 2"
   ]
  },
  {
   "cell_type": "code",
   "execution_count": null,
   "id": "348c86d2-6066-45ca-bf52-c6b61e6a186a",
   "metadata": {},
   "outputs": [],
   "source": [
    " Вилучення максимального елемента з купи"
   ]
  },
  {
   "cell_type": "code",
   "execution_count": null,
   "id": "336954ea-b1cd-41ce-8695-d9ca0c06eb64",
   "metadata": {},
   "outputs": [],
   "source": [
    "def delete_max(heap):\n",
    "    n = len(heap)\n",
    "    if n == 0:\n",
    "        return None\n",
    "    if n == 1:\n",
    "        return heap.pop()\n",
    "\n",
    "    root = heap[0]\n",
    "    heap[0] = heap.pop()\n",
    "    heapify(heap, len(heap), 0)\n",
    "    return root\n",
    "\n",
    "max_element = delete_max(heap)\n",
    "print(\"Максимальний елемент:\", max_element)\n",
    "print(\"Купа після вилучення максимального елемента:\", heap)"
   ]
  },
  {
   "cell_type": "code",
   "execution_count": null,
   "id": "91e0a36c-1db5-4380-94f7-2660afff8899",
   "metadata": {},
   "outputs": [],
   "source": [
    " Оцінити асимптотичну складність (у середньому і в найгіршому випадку) процедур search, insert і delete роботи з купою. "
   ]
  },
  {
   "cell_type": "code",
   "execution_count": null,
   "id": "d970373c-0081-4224-b356-5c33156f73c0",
   "metadata": {},
   "outputs": [],
   "source": [
    "Пошук (search):\n",
    "- Середній випадок:  (O(n)\n",
    "- Найгірший випадок: (O(n)\n",
    "\n",
    "Вставка (insert):\n",
    "- Середній випадок:  O(1)\n",
    "- Найгірший випадок: O log n\n",
    "Видалення (delete):\n",
    "- Середній випадок:  O log n\n",
    "- Найгірший випадок: O log n"
   ]
  },
  {
   "cell_type": "code",
   "execution_count": null,
   "id": "f157784b-00c1-481b-92b5-b448bbdfb909",
   "metadata": {},
   "outputs": [],
   "source": [
    "Реалізація геш-таблиці з ланцюжковим гешуванням"
   ]
  },
  {
   "cell_type": "code",
   "execution_count": null,
   "id": "7136fcd4-cc67-4b43-9171-75e1d1cda660",
   "metadata": {},
   "outputs": [],
   "source": [
    "class HashTable:\n",
    "    def __init__(self, size):\n",
    "        self.size = size  # Розмір хеш-таблиці\n",
    "        self.table = [[] for _ in range(self.size)] \n",
    "    def hash_function(self, key):\n",
    "        return hash(key) % self.size\n",
    "\n",
    "    def insert(self, key, value):\n",
    "        index = self.hash_function(key) \n",
    "        for pair in self.table[index]:\n",
    "            if pair[0] == key:\n",
    "                pair[1] = value  \n",
    "                return\n",
    "        self.table[index].append([key, value]) \n",
    "    def search(self, key):\n",
    "       \n",
    "        index = self.hash_function(key) \n",
    "        for pair in self.table[index]:\n",
    "            if pair[0] == key:\n",
    "                return pair[1]  \n",
    "        return None  \n",
    "\n",
    "    def delete(self, key):\n",
    "        \n",
    "        index = self.hash_function(key)  \n",
    "        for i, pair in enumerate(self.table[index]):\n",
    "            if pair[0] == key:\n",
    "                self.table[index].pop(i)  \n",
    "                return True\n",
    "        return False  \n",
    "\n",
    "    def display(self):\n",
    "       \n",
    "        for i, chain in enumerate(self.table):\n",
    "            print(f\"Index {i}: {chain}\")\n",
    "\n",
    "\n",
    "ht = HashTable(10)\n",
    "\n",
    "\n",
    "ht.insert(\"string\", \"value1\")\n",
    "ht.insert(42, \"value2\")\n",
    "ht.insert(3.14, \"value3\")\n",
    "ht.insert((1, 2, 3), \"value4\")\n",
    "ht.insert(frozenset([1, 2, 3]), \"value5\")\n",
    "\n",
    "# Пошук елементів\n",
    "print(\"Пошук 'string':\", ht.search(\"string\"))\n",
    "print(\"Пошук 42:\", ht.search(42))\n",
    "print(\"Пошук 3.14:\", ht.search(3.14))\n",
    "print(\"Пошук (1, 2, 3):\", ht.search((1, 2, 3)))\n",
    "print(\"Пошук frozenset([1, 2, 3]):\", ht.search(frozenset([1, 2, 3])))\n",
    "\n",
    "# Видалення елементів\n",
    "print(\"Видалення 'string':\", ht.delete(\"string\"))\n",
    "print(\"Видалення 42:\", ht.delete(42))\n",
    "\n",
    "# Відображення геш-таблиці\n",
    "ht.display()\n"
   ]
  },
  {
   "cell_type": "code",
   "execution_count": null,
   "id": "14a24192-33e8-4226-ba08-74e460c1dee3",
   "metadata": {},
   "outputs": [],
   "source": [
    "Тестування геш-таблиці з різними типами даних"
   ]
  },
  {
   "cell_type": "code",
   "execution_count": null,
   "id": "6ad31c71-32e3-4257-9492-64daa5501330",
   "metadata": {},
   "outputs": [],
   "source": [
    "import time\n",
    "\n",
    "def measure_time(operation, ht, key, value=None):\n",
    "    start_time = time.time()\n",
    "    if operation == \"insert\":\n",
    "        ht.insert(key, value)\n",
    "    elif operation == \"search\":\n",
    "        ht.search(key)\n",
    "    elif operation == \"delete\":\n",
    "        ht.delete(key)\n",
    "    end_time = time.time()\n",
    "    return end_time - start_time\n",
    "\n",
    "# Дані для тестування\n",
    "keys = {\n",
    "    \"string\": \"test_string\",\n",
    "    \"integer\": 123456,\n",
    "    \"float\": 123.456,\n",
    "    \"tuple\": (1, 2, 3),\n",
    "    \"frozenset\": frozenset([1, 2, 3])\n",
    "}\n",
    "\n",
    "# Вставка\n",
    "insert_times = {k: measure_time(\"insert\", ht, key, f\"value_{key}\") for k, key in keys.items()}\n",
    "\n",
    "# Пошук\n",
    "search_times = {k: measure_time(\"search\", ht, key) for k, key in keys.items()}\n",
    "\n",
    "# Видалення\n",
    "delete_times = {k: measure_time(\"delete\", ht, key) for k, key in keys.items()}\n",
    "\n",
    "print(\"Час вставки:\")\n",
    "print(insert_times)\n",
    "\n",
    "print(\"Час пошуку:\")\n",
    "print(search_times)\n",
    "\n",
    "print(\"Час видалення:\")\n",
    "print(delete_times)\n"
   ]
  },
  {
   "cell_type": "code",
   "execution_count": null,
   "id": "716d2465-a7ed-498c-8e22-ae074d90bc4b",
   "metadata": {},
   "outputs": [],
   "source": [
    "Порівняння результатів для різних типів даних"
   ]
  },
  {
   "cell_type": "code",
   "execution_count": null,
   "id": "40a1fc7f-866b-4c3d-95a8-08a07691316a",
   "metadata": {},
   "outputs": [],
   "source": [
    "\n",
    "import matplotlib.pyplot as plt\n",
    "labels = keys.keys()\n",
    "insert_time_values = insert_times.values()\n",
    "search_time_values = search_times.values()\n",
    "delete_time_values = delete_times.values()\n",
    "\n",
    "x = range(len(labels))\n",
    "\n",
    "plt.figure(figsize=(14, 7))\n",
    "\n",
    "plt.bar(x, insert_time_values, width=0.2, label='Вставка', align='center')\n",
    "plt.bar([p + 0.2 for p in x], search_time_values, width=0.2, label='Пошук', align='center')\n",
    "plt.bar([p + 0.4 for p in x], delete_time_values, width=0.2, label='Видалення', align='center')\n",
    "\n",
    "plt.xlabel('Типи даних')\n",
    "plt.ylabel('Час (в секундах)')\n",
    "plt.title('Час виконання операцій геш-таблиці для різних типів даних')\n",
    "plt.xticks([p + 0.2 for p in x], labels)\n",
    "\n",
    "plt.legend()\n",
    "plt.show()\n",
    "`"
   ]
  },
  {
   "cell_type": "code",
   "execution_count": null,
   "id": "187cab9e-0bca-4195-b280-810e5aa09447",
   "metadata": {},
   "outputs": [],
   "source": [
    "Оцінка асимптотичної складності"
   ]
  },
  {
   "cell_type": "code",
   "execution_count": null,
   "id": "6c68ad99-59b7-4bef-a7fc-0ddb92600bc4",
   "metadata": {},
   "outputs": [],
   "source": [
    "Пошук (search):\n",
    "Середній випадок: O(1)\n",
    "Найгірший випадок: O(n) - коли всі ключі потрапляють в одну корзину (collision).\n",
    "\n",
    "Вставка (insert):\n",
    "Середній випадок: O(1)\n",
    "Найгірший випадок: O(n) - коли всі ключі потрапляють в одну корзину і потрібно пройти через весь список.\n",
    "\n",
    "Видалення (delete):\n",
    "Середній випадок: O(1)\n",
    "Найгірший випадок: O(n) - коли всі ключі потрапляють в одну корзину і потрібно пройти через весь список.\n"
   ]
  }
 ],
 "metadata": {
  "kernelspec": {
   "display_name": "Python 3 (ipykernel)",
   "language": "python",
   "name": "python3"
  },
  "language_info": {
   "codemirror_mode": {
    "name": "ipython",
    "version": 3
   },
   "file_extension": ".py",
   "mimetype": "text/x-python",
   "name": "python",
   "nbconvert_exporter": "python",
   "pygments_lexer": "ipython3",
   "version": "3.11.7"
  }
 },
 "nbformat": 4,
 "nbformat_minor": 5
}
