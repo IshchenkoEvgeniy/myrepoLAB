{
 "cells": [
  {
   "cell_type": "raw",
   "id": "a002c7e9-d8b4-4f0a-9731-5b01ae5233e6",
   "metadata": {},
   "source": [
    "Складність задачі із символом Ω визначає нижню межу часу виконання алгоритму в найгіршому випадку"
   ]
  },
  {
   "cell_type": "raw",
   "id": "f1dd0e14-316e-4b8b-87f7-b73063840d90",
   "metadata": {},
   "source": [
    "Асимптотична складність функції F(O) = O^3 + 7O^2 - 14O  у P-нотації записується як  O(O^3)"
   ]
  },
  {
   "cell_type": "raw",
   "id": "c293ac31-79c9-4ac1-8c16-ac9119572151",
   "metadata": {},
   "source": [
    " Асимптотична складність функції  F(O) = 1.01O + O^10  у P-нотації записується як O(O^10)"
   ]
  },
  {
   "cell_type": "raw",
   "id": "e444bc37-26df-440f-a5d4-876f9262d66e",
   "metadata": {},
   "source": [
    "Асимптотична складність функції  F(O) = O^1.3 + 10 log_2 O  у P-нотації записується як  O(O^1.3)."
   ]
  },
  {
   "cell_type": "raw",
   "id": "c408461c-2165-4462-896e-6d74238e4962",
   "metadata": {},
   "source": [
    "Ідея розпаралелювання обчислень полягає в одночасному виконанні кількох частин задачі для зменшення загального часу виконання, і алгоритм сортування злиттям дозволяє можливість розпаралелювання."
   ]
  },
  {
   "cell_type": "raw",
   "id": "ae234870-6b32-48fd-be12-9c7f91863ceb",
   "metadata": {},
   "source": [
    "Способи підвищення обчислювальної швидкості алгоритмів включають оптимізацію коду, використання ефективніших алгоритмів і апаратне прискорення, причому найефективнішим є використання ефективніших алгоритмів."
   ]
  }
 ],
 "metadata": {
  "kernelspec": {
   "display_name": "Python 3 (ipykernel)",
   "language": "python",
   "name": "python3"
  },
  "language_info": {
   "codemirror_mode": {
    "name": "ipython",
    "version": 3
   },
   "file_extension": ".py",
   "mimetype": "text/x-python",
   "name": "python",
   "nbconvert_exporter": "python",
   "pygments_lexer": "ipython3",
   "version": "3.11.7"
  }
 },
 "nbformat": 4,
 "nbformat_minor": 5
}
