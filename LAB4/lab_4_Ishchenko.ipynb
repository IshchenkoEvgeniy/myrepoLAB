{
 "cells": [
  {
   "cell_type": "raw",
   "id": "4fa24af8-8fc4-492f-aa4d-d5b397ddc507",
   "metadata": {},
   "source": [
    "Реалізувати процедуру обчислення факторіалу за допомогою циклу for. Оцінити асимптотичну складність алгоритму.\n"
   ]
  },
  {
   "cell_type": "code",
   "execution_count": null,
   "id": "5e998ee6-ed3a-4448-bae0-17b0c4013f42",
   "metadata": {},
   "outputs": [],
   "source": [
    "def factorial(n):\n",
    "    result = 1\n",
    "    for i in range(2, n + 1):\n",
    "        result *= i\n",
    "    return result\n",
    "\n",
    "n = 5\n",
    "print(f\"Факторіал числа {n} дорівнює {factorial(n)}\")"
   ]
  },
  {
   "cell_type": "raw",
   "id": "665b7342-e653-450a-9d76-a45b579dc23a",
   "metadata": {},
   "source": [
    " Ініціалізація змінної result відбувається один раз — це O(1).\n",
    " Цикл for виконується від 2 до n включно, тобто n-1 разів. На кожній ітерації виконується операція множення та присвоєння — це  O(n-1), що є лінійною складністю O(n) "
   ]
  },
  {
   "cell_type": "raw",
   "id": "1414718f-0e9a-4909-b2a8-b09b4ec78742",
   "metadata": {},
   "source": [
    "Оцінити асимптотичну складність рекурсивного алгоритму обчислення факторіалу."
   ]
  },
  {
   "cell_type": "code",
   "execution_count": null,
   "id": "03aba749-a782-47a0-a8e3-014e6b86af84",
   "metadata": {},
   "outputs": [],
   "source": [
    "def fac(n):\n",
    "    if n == 0:\n",
    "        return 1\n",
    "    return fac(n-1) * n\n"
   ]
  },
  {
   "cell_type": "raw",
   "id": "1c00421f-e3df-40dd-afdd-dfa1d5abf64c",
   "metadata": {
    "tags": []
   },
   "source": [
    "Кожен виклик fac(n) викликає fac(n-1), fac(n-2), і так далі, доки не досягне базового випадку  fac(0). Для обчислення факторіалу числа  n  нам потрібно зробити n  рекурсивних викликів.Відповідь O(n) "
   ]
  },
  {
   "cell_type": "raw",
   "id": "cc09c8f6-d460-4ee3-9d37-36708b4418e3",
   "metadata": {},
   "source": [
    "Оцінити асимптотичну складність рекурсивного алгоритму обчислення 𝑛-го числа Фібоначчі"
   ]
  },
  {
   "cell_type": "code",
   "execution_count": null,
   "id": "3acc0b55-f6fd-4403-a716-9ed40d69eb82",
   "metadata": {},
   "outputs": [],
   "source": [
    "def fibonacci(n):\n",
    "    if n == 0:\n",
    "        return 0\n",
    "    if n in (1, 2):\n",
    "        return 1\n",
    "    return fibonacci(n - 1) + fibonacci(n - 2)"
   ]
  },
  {
   "cell_type": "markdown",
   "id": "f54a92a3-14f2-4060-ab38-4dcb7855663a",
   "metadata": {
    "tags": []
   },
   "source": [
    " T(n) = T(n-1) + T(n-2) + O(1)\n",
    " T(n) = F_n\n",
    " F=f^n/корінь5\n",
    " O=f^n\n",
    " O=2^n"
   ]
  },
  {
   "cell_type": "raw",
   "id": "c3f77e48-18f7-480d-b632-dbaab99817e4",
   "metadata": {},
   "source": [
    "Оцінити асимптотичну складність алгоритму сортування злиттям, використовуючи головну теорему рекурсії"
   ]
  },
  {
   "cell_type": "raw",
   "id": "b3eedc84-60e2-4b32-86fe-288a14ee59cd",
   "metadata": {},
   "source": [
    "a=2 b=2 log_b(a)=log_2(2)\n",
    "\n",
    "f(n)=O(n)\n",
    "\n",
    "T(n)=O(n)"
   ]
  }
 ],
 "metadata": {
  "kernelspec": {
   "display_name": "Python 3 (ipykernel)",
   "language": "python",
   "name": "python3"
  },
  "language_info": {
   "codemirror_mode": {
    "name": "ipython",
    "version": 3
   },
   "file_extension": ".py",
   "mimetype": "text/x-python",
   "name": "python",
   "nbconvert_exporter": "python",
   "pygments_lexer": "ipython3",
   "version": "3.11.7"
  }
 },
 "nbformat": 4,
 "nbformat_minor": 5
}
