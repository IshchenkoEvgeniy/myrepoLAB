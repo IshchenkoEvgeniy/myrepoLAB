{
 "cells": [
  {
   "cell_type": "code",
   "execution_count": null,
   "id": "5bba925b-e7af-4b74-bd3c-8c16db3cbfa1",
   "metadata": {},
   "outputs": [],
   "source": [
    "Cтворення і візуалізація графа"
   ]
  },
  {
   "cell_type": "code",
   "execution_count": null,
   "id": "b6d25d50-7be5-4bf1-a155-ab33dcc4c468",
   "metadata": {},
   "outputs": [],
   "source": [
    "import networkx as nx\n",
    "import matplotlib.pyplot as plt\n",
    "import random\n",
    "\n",
    "random.seed(42)\n",
    "\n",
    "\n",
    "G = nx.gnm_random_graph(10, 15)\n",
    "\n",
    "\n",
    "pos = nx.spring_layout(G)\n",
    "nx.draw(G, pos, with_labels=True, node_size=700, font_size=20, font_family='sans-serif')\n",
    "plt.show()\n"
   ]
  },
  {
   "cell_type": "code",
   "execution_count": null,
   "id": "e5f4ccc1-96b7-48fc-8167-5b3aca2ca928",
   "metadata": {},
   "outputs": [],
   "source": [
    "Алгоритм Дейкстри"
   ]
  },
  {
   "cell_type": "code",
   "execution_count": null,
   "id": "88134da2-1d0f-4087-9d8e-01e430d0e4ab",
   "metadata": {},
   "outputs": [],
   "source": [
    "\n",
    "length, path = nx.single_source_dijkstra(G, 0)\n",
    "\n",
    "\n",
    "print(\"Довжини найкоротших шляхів від вершини 0:\", length)\n",
    "\n",
    "\n",
    "print(\"Шляхи від вершини 0 до всіх інших вершин:\", path)\n"
   ]
  },
  {
   "cell_type": "code",
   "execution_count": null,
   "id": "24a20621-afaa-421b-b249-809ae2e45129",
   "metadata": {},
   "outputs": [],
   "source": [
    "Алгоритм Беллмана-Форда"
   ]
  },
  {
   "cell_type": "code",
   "execution_count": null,
   "id": "4b879d5c-7836-4e19-a839-e56df48a9819",
   "metadata": {},
   "outputs": [],
   "source": [
    "\n",
    "for (u, v) in G.edges():\n",
    "    G.edges[u, v]['weight'] = random.randint(-10, 10)\n",
    "\n",
    "\n",
    "length = nx.single_source_bellman_ford_path_length(G, 0)\n",
    "\n",
    "\n",
    "print(\"Довжини найкоротших шляхів від вершини 0 (Беллман-Форд):\", length)\n"
   ]
  },
  {
   "cell_type": "code",
   "execution_count": null,
   "id": "fc1ea32a-bb57-40a2-91d5-51d1aab89b3c",
   "metadata": {},
   "outputs": [],
   "source": [
    "Пошук у глибину (DFS)"
   ]
  },
  {
   "cell_type": "code",
   "execution_count": null,
   "id": "fb9d5672-8793-4af2-9401-cc67e5b4af7b",
   "metadata": {},
   "outputs": [],
   "source": [
    "\n",
    "def dfs(graph, start, visited=None):\n",
    "    if visited is None:\n",
    "        visited = set()  \n",
    "    visited.add(start)  \n",
    "   \n",
    "    for next in set(graph.adj[start].keys()) - visited:\n",
    "        dfs(graph, next, visited)\n",
    "    return visited\n",
    "\n",
    "\n",
    "visited_vertices = dfs(G, 0)\n",
    "print(\"Відвідані вершини (DFS) з вершини 0:\", visited_vertices)\n"
   ]
  },
  {
   "cell_type": "code",
   "execution_count": null,
   "id": "edb0cddd-562e-4a78-85c2-a07441538216",
   "metadata": {},
   "outputs": [],
   "source": [
    "Пошук у ширину (BFS)"
   ]
  },
  {
   "cell_type": "code",
   "execution_count": null,
   "id": "0092c258-4cc0-4196-b18c-784a20817128",
   "metadata": {},
   "outputs": [],
   "source": [
    "\n",
    "def bfs_paths(graph, start, goal):\n",
    "    queue = [(start, [start])]\n",
    "    while queue:\n",
    "        (vertex, path) = queue.pop(0)\n",
    "        for next in set(graph.adj[vertex].keys()) - set(path):\n",
    "            if next == goal:\n",
    "                yield path + [next]\n",
    "            else:\n",
    "                queue.append((next, path + [next]))\n",
    "\n",
    "\n",
    "paths = list(bfs_paths(G, 0, 9))\n",
    "print(\"Усі можливі шляхи від вершини 0 до вершини 9 (BFS):\", paths)\n"
   ]
  },
  {
   "cell_type": "code",
   "execution_count": null,
   "id": "fbbf955f-b6c5-4b21-820f-cc8d0354c5a4",
   "metadata": {},
   "outputs": [],
   "source": [
    "import networkx as nx\n",
    "import matplotlib.pyplot as plt\n",
    "import random\n",
    "\n",
    "\n",
    "random.seed(42)\n",
    "\n",
    "\n",
    "G = nx.gnm_random_graph(100, 105)\n",
    "\n",
    "\n",
    "for (u, v) in G.edges():\n",
    "    G.edges[u, v]['weight'] = random.randint(-10, 10)\n",
    "\n",
    "\n",
    "pos = nx.spring_layout(G)\n",
    "nx.draw(G, pos, with_labels=True, node_size=700, font_size=20, font_family='sans-serif')\n",
    "plt.show()\n",
    "\n",
    "\n",
    "length, path = nx.single_source_dijkstra(G, 0)\n",
    "print(\"Довжини найкоротших шляхів від вершини 0:\", length)\n",
    "print(\"Шляхи від вершини 0 до всіх інших вершин:\", path)\n",
    "\n",
    "\n",
    "length = nx.single_source_bellman_ford_path_length(G, 0)\n",
    "print(\"Довжини найкоротших шляхів від вершини 0 (Беллман-Форд):\", length)\n",
    "\n",
    "def dfs(graph, start, visited=None):\n",
    "    if visited is None:\n",
    "        visited = set()\n",
    "    visited.add(start)\n",
    "    for next in set(graph.adj[start].keys()) - visited:\n",
    "        dfs(graph, next, visited)\n",
    "    return visited\n",
    "\n",
    "visited_vertices = dfs(G, 0)\n",
    "print(\"Відвідані вершини (DFS) з вершини 0:\", visited_vertices)\n",
    "\n",
    "\n",
    "def bfs_paths(graph, start, goal):\n",
    "    queue = [(start, [start])]\n",
    "    while queue:\n",
    "        (vertex, path) = queue.pop(0)\n",
    "        for next in set(graph.adj[vertex].keys()) - set(path):\n",
    "            if next == goal:\n",
    "                yield path + [next]\n",
    "            else:\n",
    "                queue.append((next, path + [next]))\n",
    "\n",
    "paths = list(bfs_paths(G, 0, 9))\n",
    "print(\"Усі можливі шляхи від вершини 0 до вершини 9 (BFS):\", paths)\n",
    "\n"
   ]
  }
 ],
 "metadata": {
  "kernelspec": {
   "display_name": "Python 3 (ipykernel)",
   "language": "python",
   "name": "python3"
  },
  "language_info": {
   "codemirror_mode": {
    "name": "ipython",
    "version": 3
   },
   "file_extension": ".py",
   "mimetype": "text/x-python",
   "name": "python",
   "nbconvert_exporter": "python",
   "pygments_lexer": "ipython3",
   "version": "3.11.7"
  }
 },
 "nbformat": 4,
 "nbformat_minor": 5
}
